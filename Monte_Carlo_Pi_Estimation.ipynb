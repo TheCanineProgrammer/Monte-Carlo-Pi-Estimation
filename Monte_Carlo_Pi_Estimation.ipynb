{
 "cells": [
  {
   "cell_type": "code",
   "execution_count": 46,
   "id": "6b88b815",
   "metadata": {},
   "outputs": [],
   "source": [
    "import numpy as np\n",
    "import matplotlib.pyplot as plt\n",
    "from matplotlib.patches import Rectangle, Circle\n",
    "import matplotlib.gridspec as gridspec\n",
    "from ipywidgets import interact, IntSlider\n",
    "from IPython.display import display"
   ]
  },
  {
   "cell_type": "code",
   "execution_count": 82,
   "id": "d07a863c",
   "metadata": {},
   "outputs": [],
   "source": [
    "def plot_monte_carlo(n):\n",
    "    X = np.random.uniform(0, 1, size = n)\n",
    "    Y = np.random.uniform(0, 1, size = n)\n",
    "    \n",
    "    mask = (X - 0.5)**2 + (Y - 0.5)**2 <= 0.25\n",
    "    \n",
    "    X_circle = X[mask]\n",
    "    y_circle = Y[mask]\n",
    "    X_outside = X[~mask]\n",
    "    y_outside = Y[~mask]\n",
    "    inside = 0\n",
    "    estimates = []\n",
    "\n",
    "    for i in range(1, n+1):\n",
    "        x, y = X[i-1], Y[i-1]\n",
    "        \n",
    "        if (x - 0.5)**2 + (y - 0.5) ** 2 <= 0.25:\n",
    "            inside += 1\n",
    "        estimates.append(4 * inside / i)\n",
    "    \n",
    "    estimate = 4 * inside / n\n",
    "    \n",
    "    fig = plt.figure(2, figsize = (10, 10))\n",
    "    gs = gridspec.GridSpec(1, 2, width_ratios=[1, 1.5])\n",
    "    \n",
    "    ax1 = fig.add_subplot(gs[0])\n",
    "    rect = Rectangle((0, 0), width=1, height=1, edgecolor='blue', facecolor='lightblue')\n",
    "    circle = Circle((0.5, 0.5), radius=0.5, edgecolor='red', facecolor='lightcoral')\n",
    "    ax1.add_patch(rect)\n",
    "    ax1.add_patch(circle)\n",
    "    ax1.scatter(X_circle, y_circle, color = \"red\")\n",
    "    ax1.scatter(X_outside, y_outside, color = \"black\")\n",
    "    ax1.set_xlim(0, 1)\n",
    "    ax1.set_ylim(0, 1)\n",
    "    ax1.set_aspect('equal')\n",
    "    ax1.set_title(rf\"number of points: {n}, $\\pi$ ≈ {estimate : .4f}\")\n",
    "    \n",
    "    \n",
    "    ax2 = fig.add_subplot(gs[1])\n",
    "    ax2.plot(range(1, n+1), estimates, label = \"Estimated $\\pi$\")\n",
    "    ax2.axhline(np.pi, color = \"red\", linestyle = \"--\", label = \"$\\pi$\")\n",
    "    ax2.set_xlabel(\"Number of points\")\n",
    "    ax2.set_ylabel(\"Estimated $\\pi$\")\n",
    "    ax2.set_title(\"Covergence of $\\pi$\")\n",
    "    ax2.legend()\n",
    "    ax2.grid()\n",
    "    \n",
    "    plt.show()\n",
    "    "
   ]
  },
  {
   "cell_type": "code",
   "execution_count": 84,
   "id": "a0b60298",
   "metadata": {},
   "outputs": [
    {
     "data": {
      "application/vnd.jupyter.widget-view+json": {
       "model_id": "7ac99ae6458f45c89357fae5f5a513d0",
       "version_major": 2,
       "version_minor": 0
      },
      "text/plain": [
       "interactive(children=(IntSlider(value=100, description='n', max=2000, min=100), Output()), _dom_classes=('widg…"
      ]
     },
     "metadata": {},
     "output_type": "display_data"
    },
    {
     "data": {
      "text/plain": [
       "<function __main__.plot_monte_carlo(n)>"
      ]
     },
     "execution_count": 84,
     "metadata": {},
     "output_type": "execute_result"
    }
   ],
   "source": [
    "interact(plot_monte_carlo, n = IntSlider(min = 100, max = 2000, step = 1, value = 100, description = \"n\"))"
   ]
  }
 ],
 "metadata": {
  "kernelspec": {
   "display_name": "Python 3 (ipykernel)",
   "language": "python",
   "name": "python3"
  },
  "language_info": {
   "codemirror_mode": {
    "name": "ipython",
    "version": 3
   },
   "file_extension": ".py",
   "mimetype": "text/x-python",
   "name": "python",
   "nbconvert_exporter": "python",
   "pygments_lexer": "ipython3",
   "version": "3.11.4"
  }
 },
 "nbformat": 4,
 "nbformat_minor": 5
}
